{
 "cells": [
  {
   "cell_type": "code",
   "execution_count": 8,
   "id": "7bac9818",
   "metadata": {},
   "outputs": [],
   "source": [
    "import pandas as pd\n",
    "import numpy as np\n",
    "import matplotlib.pyplot as plt\n",
    "import seaborn as sns\n",
    "from sklearn.model_selection import train_test_split\n",
    "from sklearn.metrics import accuracy_score, f1_score, confusion_matrix, recall_score, classification_report\n",
    "from sklearn.linear_model import LogisticRegression\n",
    "from sklearn.ensemble import RandomForestClassifier\n",
    "from sklearn.tree import DecisionTreeClassifier\n",
    "import warnings\n",
    "warnings.filterwarnings(\"ignore\")"
   ]
  },
  {
   "cell_type": "markdown",
   "id": "0fe192fa",
   "metadata": {},
   "source": [
    "J'ai commencer par importer les bibliothèques nécessaires pour l'analyse de données et la construction de modèles de machine learning."
   ]
  },
  {
   "cell_type": "code",
   "execution_count": 9,
   "id": "d6658de2",
   "metadata": {},
   "outputs": [],
   "source": [
    "data = pd.read_csv('Covid Data.csv')"
   ]
  },
  {
   "cell_type": "code",
   "execution_count": 10,
   "id": "0b76647e",
   "metadata": {},
   "outputs": [
    {
     "name": "stdout",
     "output_type": "stream",
     "text": [
      "Shape of Data : (1048575, 21)\n"
     ]
    }
   ],
   "source": [
    "print(\"Shape of Data :\",data.shape)"
   ]
  },
  {
   "cell_type": "markdown",
   "id": "4a14976f",
   "metadata": {},
   "source": [
    "il y a 1,048,575 lignes et 21 colonnes. Cela signifie qu'il y a des informations sur 1 048 575 patients et 21 variables pour chaque patient."
   ]
  },
  {
   "cell_type": "code",
   "execution_count": 11,
   "id": "cbbb8a3f",
   "metadata": {},
   "outputs": [
    {
     "data": {
      "text/html": [
       "<div>\n",
       "<style scoped>\n",
       "    .dataframe tbody tr th:only-of-type {\n",
       "        vertical-align: middle;\n",
       "    }\n",
       "\n",
       "    .dataframe tbody tr th {\n",
       "        vertical-align: top;\n",
       "    }\n",
       "\n",
       "    .dataframe thead th {\n",
       "        text-align: right;\n",
       "    }\n",
       "</style>\n",
       "<table border=\"1\" class=\"dataframe\">\n",
       "  <thead>\n",
       "    <tr style=\"text-align: right;\">\n",
       "      <th></th>\n",
       "      <th>USMER</th>\n",
       "      <th>MEDICAL_UNIT</th>\n",
       "      <th>SEX</th>\n",
       "      <th>PATIENT_TYPE</th>\n",
       "      <th>DATE_DIED</th>\n",
       "      <th>INTUBED</th>\n",
       "      <th>PNEUMONIA</th>\n",
       "      <th>AGE</th>\n",
       "      <th>PREGNANT</th>\n",
       "      <th>DIABETES</th>\n",
       "      <th>...</th>\n",
       "      <th>ASTHMA</th>\n",
       "      <th>INMSUPR</th>\n",
       "      <th>HIPERTENSION</th>\n",
       "      <th>OTHER_DISEASE</th>\n",
       "      <th>CARDIOVASCULAR</th>\n",
       "      <th>OBESITY</th>\n",
       "      <th>RENAL_CHRONIC</th>\n",
       "      <th>TOBACCO</th>\n",
       "      <th>CLASIFFICATION_FINAL</th>\n",
       "      <th>ICU</th>\n",
       "    </tr>\n",
       "  </thead>\n",
       "  <tbody>\n",
       "    <tr>\n",
       "      <th>0</th>\n",
       "      <td>2</td>\n",
       "      <td>1</td>\n",
       "      <td>1</td>\n",
       "      <td>1</td>\n",
       "      <td>03/05/2020</td>\n",
       "      <td>97</td>\n",
       "      <td>1</td>\n",
       "      <td>65</td>\n",
       "      <td>2</td>\n",
       "      <td>2</td>\n",
       "      <td>...</td>\n",
       "      <td>2</td>\n",
       "      <td>2</td>\n",
       "      <td>1</td>\n",
       "      <td>2</td>\n",
       "      <td>2</td>\n",
       "      <td>2</td>\n",
       "      <td>2</td>\n",
       "      <td>2</td>\n",
       "      <td>3</td>\n",
       "      <td>97</td>\n",
       "    </tr>\n",
       "    <tr>\n",
       "      <th>1</th>\n",
       "      <td>2</td>\n",
       "      <td>1</td>\n",
       "      <td>2</td>\n",
       "      <td>1</td>\n",
       "      <td>03/06/2020</td>\n",
       "      <td>97</td>\n",
       "      <td>1</td>\n",
       "      <td>72</td>\n",
       "      <td>97</td>\n",
       "      <td>2</td>\n",
       "      <td>...</td>\n",
       "      <td>2</td>\n",
       "      <td>2</td>\n",
       "      <td>1</td>\n",
       "      <td>2</td>\n",
       "      <td>2</td>\n",
       "      <td>1</td>\n",
       "      <td>1</td>\n",
       "      <td>2</td>\n",
       "      <td>5</td>\n",
       "      <td>97</td>\n",
       "    </tr>\n",
       "    <tr>\n",
       "      <th>2</th>\n",
       "      <td>2</td>\n",
       "      <td>1</td>\n",
       "      <td>2</td>\n",
       "      <td>2</td>\n",
       "      <td>09/06/2020</td>\n",
       "      <td>1</td>\n",
       "      <td>2</td>\n",
       "      <td>55</td>\n",
       "      <td>97</td>\n",
       "      <td>1</td>\n",
       "      <td>...</td>\n",
       "      <td>2</td>\n",
       "      <td>2</td>\n",
       "      <td>2</td>\n",
       "      <td>2</td>\n",
       "      <td>2</td>\n",
       "      <td>2</td>\n",
       "      <td>2</td>\n",
       "      <td>2</td>\n",
       "      <td>3</td>\n",
       "      <td>2</td>\n",
       "    </tr>\n",
       "    <tr>\n",
       "      <th>3</th>\n",
       "      <td>2</td>\n",
       "      <td>1</td>\n",
       "      <td>1</td>\n",
       "      <td>1</td>\n",
       "      <td>12/06/2020</td>\n",
       "      <td>97</td>\n",
       "      <td>2</td>\n",
       "      <td>53</td>\n",
       "      <td>2</td>\n",
       "      <td>2</td>\n",
       "      <td>...</td>\n",
       "      <td>2</td>\n",
       "      <td>2</td>\n",
       "      <td>2</td>\n",
       "      <td>2</td>\n",
       "      <td>2</td>\n",
       "      <td>2</td>\n",
       "      <td>2</td>\n",
       "      <td>2</td>\n",
       "      <td>7</td>\n",
       "      <td>97</td>\n",
       "    </tr>\n",
       "    <tr>\n",
       "      <th>4</th>\n",
       "      <td>2</td>\n",
       "      <td>1</td>\n",
       "      <td>2</td>\n",
       "      <td>1</td>\n",
       "      <td>21/06/2020</td>\n",
       "      <td>97</td>\n",
       "      <td>2</td>\n",
       "      <td>68</td>\n",
       "      <td>97</td>\n",
       "      <td>1</td>\n",
       "      <td>...</td>\n",
       "      <td>2</td>\n",
       "      <td>2</td>\n",
       "      <td>1</td>\n",
       "      <td>2</td>\n",
       "      <td>2</td>\n",
       "      <td>2</td>\n",
       "      <td>2</td>\n",
       "      <td>2</td>\n",
       "      <td>3</td>\n",
       "      <td>97</td>\n",
       "    </tr>\n",
       "  </tbody>\n",
       "</table>\n",
       "<p>5 rows × 21 columns</p>\n",
       "</div>"
      ],
      "text/plain": [
       "   USMER  MEDICAL_UNIT  SEX  PATIENT_TYPE   DATE_DIED  INTUBED  PNEUMONIA  \\\n",
       "0      2             1    1             1  03/05/2020       97          1   \n",
       "1      2             1    2             1  03/06/2020       97          1   \n",
       "2      2             1    2             2  09/06/2020        1          2   \n",
       "3      2             1    1             1  12/06/2020       97          2   \n",
       "4      2             1    2             1  21/06/2020       97          2   \n",
       "\n",
       "   AGE  PREGNANT  DIABETES  ...  ASTHMA  INMSUPR  HIPERTENSION  OTHER_DISEASE  \\\n",
       "0   65         2         2  ...       2        2             1              2   \n",
       "1   72        97         2  ...       2        2             1              2   \n",
       "2   55        97         1  ...       2        2             2              2   \n",
       "3   53         2         2  ...       2        2             2              2   \n",
       "4   68        97         1  ...       2        2             1              2   \n",
       "\n",
       "   CARDIOVASCULAR  OBESITY  RENAL_CHRONIC  TOBACCO  CLASIFFICATION_FINAL  ICU  \n",
       "0               2        2              2        2                     3   97  \n",
       "1               2        1              1        2                     5   97  \n",
       "2               2        2              2        2                     3    2  \n",
       "3               2        2              2        2                     7   97  \n",
       "4               2        2              2        2                     3   97  \n",
       "\n",
       "[5 rows x 21 columns]"
      ]
     },
     "execution_count": 11,
     "metadata": {},
     "output_type": "execute_result"
    }
   ],
   "source": [
    "data.head()"
   ]
  },
  {
   "cell_type": "code",
   "execution_count": 12,
   "id": "e5304b17",
   "metadata": {},
   "outputs": [
    {
     "name": "stdout",
     "output_type": "stream",
     "text": [
      "<class 'pandas.core.frame.DataFrame'>\n",
      "RangeIndex: 1048575 entries, 0 to 1048574\n",
      "Data columns (total 21 columns):\n",
      " #   Column                Non-Null Count    Dtype \n",
      "---  ------                --------------    ----- \n",
      " 0   USMER                 1048575 non-null  int64 \n",
      " 1   MEDICAL_UNIT          1048575 non-null  int64 \n",
      " 2   SEX                   1048575 non-null  int64 \n",
      " 3   PATIENT_TYPE          1048575 non-null  int64 \n",
      " 4   DATE_DIED             1048575 non-null  object\n",
      " 5   INTUBED               1048575 non-null  int64 \n",
      " 6   PNEUMONIA             1048575 non-null  int64 \n",
      " 7   AGE                   1048575 non-null  int64 \n",
      " 8   PREGNANT              1048575 non-null  int64 \n",
      " 9   DIABETES              1048575 non-null  int64 \n",
      " 10  COPD                  1048575 non-null  int64 \n",
      " 11  ASTHMA                1048575 non-null  int64 \n",
      " 12  INMSUPR               1048575 non-null  int64 \n",
      " 13  HIPERTENSION          1048575 non-null  int64 \n",
      " 14  OTHER_DISEASE         1048575 non-null  int64 \n",
      " 15  CARDIOVASCULAR        1048575 non-null  int64 \n",
      " 16  OBESITY               1048575 non-null  int64 \n",
      " 17  RENAL_CHRONIC         1048575 non-null  int64 \n",
      " 18  TOBACCO               1048575 non-null  int64 \n",
      " 19  CLASIFFICATION_FINAL  1048575 non-null  int64 \n",
      " 20  ICU                   1048575 non-null  int64 \n",
      "dtypes: int64(20), object(1)\n",
      "memory usage: 168.0+ MB\n"
     ]
    }
   ],
   "source": [
    "data.info()"
   ]
  },
  {
   "cell_type": "markdown",
   "id": "9c16f734",
   "metadata": {},
   "source": [
    "il y a 1,048,575 entrées et 21 colonnes dans le DataFrame. Toutes les colonnes contiennent des valeurs non nulles. Il y a 20 colonnes de type int64 et 1 colonne de type objet (DATE_DIED)"
   ]
  },
  {
   "cell_type": "code",
   "execution_count": 13,
   "id": "b088b1d5",
   "metadata": {},
   "outputs": [
    {
     "data": {
      "text/plain": [
       "0"
      ]
     },
     "execution_count": 13,
     "metadata": {},
     "output_type": "execute_result"
    }
   ],
   "source": [
    "data.isna().sum().sum()"
   ]
  },
  {
   "cell_type": "markdown",
   "id": "b5535b8d",
   "metadata": {},
   "source": [
    "le résultat est 0, ce qui signifie qu'il n'y a pas de valeurs manquantes dans le DataFrame"
   ]
  },
  {
   "cell_type": "code",
   "execution_count": 14,
   "id": "e5d4e73e",
   "metadata": {},
   "outputs": [
    {
     "name": "stdout",
     "output_type": "stream",
     "text": [
      "Nombre de valeurs uniques par colonne:\n",
      "USMER                     2\n",
      "MEDICAL_UNIT             13\n",
      "SEX                       2\n",
      "PATIENT_TYPE              2\n",
      "DATE_DIED               401\n",
      "INTUBED                   4\n",
      "PNEUMONIA                 3\n",
      "AGE                     121\n",
      "PREGNANT                  4\n",
      "DIABETES                  3\n",
      "COPD                      3\n",
      "ASTHMA                    3\n",
      "INMSUPR                   3\n",
      "HIPERTENSION              3\n",
      "OTHER_DISEASE             3\n",
      "CARDIOVASCULAR            3\n",
      "OBESITY                   3\n",
      "RENAL_CHRONIC             3\n",
      "TOBACCO                   3\n",
      "CLASIFFICATION_FINAL      7\n",
      "ICU                       4\n",
      "dtype: int64\n"
     ]
    }
   ],
   "source": [
    "unique_vals = data.nunique()\n",
    "\n",
    "print(\"Nombre de valeurs uniques par colonne:\")\n",
    "print(unique_vals)"
   ]
  },
  {
   "cell_type": "markdown",
   "id": "c677bfdc",
   "metadata": {},
   "source": [
    "il y a deux valeurs uniques pour les colonnes USMER, SEX, PATIENT_TYPE et INTUBED. \n",
    "Il y a 13 valeurs uniques pour la colonne MEDICAL_UNIT. \n",
    "Les autres colonnes ont un nombre variable de valeurs uniques. \n",
    "La colonne AGE a 121 valeurs uniques, ce qui suggère une grande variété d'âges dans les données. \n",
    "La colonne DATE_DIED a 401 valeurs uniques, ce qui indique qu'il y a 401 dates de décès différentes dans les données. \n",
    "La colonne CLASIFFICATION_FINAL a 7 valeurs uniques, ce qui suggère que les patients ont été classés en différents niveaux de gravité pour leur maladie de Covid."
   ]
  },
  {
   "cell_type": "code",
   "execution_count": 15,
   "id": "5acbd83c",
   "metadata": {},
   "outputs": [
    {
     "name": "stdout",
     "output_type": "stream",
     "text": [
      "9999-99-99    971633\n",
      "06/07/2020      1000\n",
      "07/07/2020       996\n",
      "13/07/2020       990\n",
      "16/06/2020       979\n",
      "               ...  \n",
      "24/11/2020         1\n",
      "17/12/2020         1\n",
      "08/12/2020         1\n",
      "16/03/2021         1\n",
      "22/04/2021         1\n",
      "Name: DATE_DIED, Length: 401, dtype: int64\n"
     ]
    }
   ],
   "source": [
    "deces_counts = data.DATE_DIED.value_counts()\n",
    "\n",
    "print(deces_counts)"
   ]
  },
  {
   "cell_type": "markdown",
   "id": "1f8e6039",
   "metadata": {},
   "source": [
    "il y a 971,633 patients pour lesquels la date de décès est indiquée comme 9999-99-99, ce qui signifie qu'ils sont toujours en vie."
   ]
  },
  {
   "cell_type": "code",
   "execution_count": 16,
   "id": "8e099fae",
   "metadata": {},
   "outputs": [
    {
     "name": "stdout",
     "output_type": "stream",
     "text": [
      "2     892534\n",
      "1     140038\n",
      "99     16003\n",
      "Name: PNEUMONIA, dtype: int64\n"
     ]
    }
   ],
   "source": [
    "pneumonia_counts = data.PNEUMONIA.value_counts()\n",
    "\n",
    "print(pneumonia_counts)"
   ]
  },
  {
   "cell_type": "markdown",
   "id": "f3371519",
   "metadata": {},
   "source": [
    " il y a 892,534 patients qui n'ont pas de pneumonie (valeur 2), 140,038 patients qui ont une pneumonie (valeur 1) et 16,003 patients pour lesquels l'information est manquante (valeur 99)."
   ]
  },
  {
   "cell_type": "code",
   "execution_count": 17,
   "id": "d59a863c",
   "metadata": {},
   "outputs": [
    {
     "name": "stdout",
     "output_type": "stream",
     "text": [
      "[1 2]\n"
     ]
    }
   ],
   "source": [
    "data = data.loc[data.PNEUMONIA != 99]\n",
    "print(data.PNEUMONIA.unique())"
   ]
  },
  {
   "cell_type": "code",
   "execution_count": 18,
   "id": "80e9719a",
   "metadata": {},
   "outputs": [
    {
     "name": "stdout",
     "output_type": "stream",
     "text": [
      "[1 0]\n"
     ]
    }
   ],
   "source": [
    "data['DEATH'] = (data.DATE_DIED != '9999-99-99').astype(int)\n",
    "\n",
    "print(data.DEATH.unique())"
   ]
  },
  {
   "cell_type": "markdown",
   "id": "ca8f0ccb",
   "metadata": {},
   "source": [
    "J'ai crée une nouvelle colonne dans le DataFrame \"data\" nommée DEATH qui indique si le patient est décédé ou non.\n",
    "Si la date de décès est différente de '9999-99-99', la valeur de la colonne DEATH est définie sur 1(en vie), sinon elle est définie sur 0(mort)."
   ]
  },
  {
   "cell_type": "code",
   "execution_count": 19,
   "id": "e9af1fb8",
   "metadata": {
    "scrolled": true
   },
   "outputs": [
    {
     "data": {
      "text/html": [
       "<div>\n",
       "<style scoped>\n",
       "    .dataframe tbody tr th:only-of-type {\n",
       "        vertical-align: middle;\n",
       "    }\n",
       "\n",
       "    .dataframe tbody tr th {\n",
       "        vertical-align: top;\n",
       "    }\n",
       "\n",
       "    .dataframe thead th {\n",
       "        text-align: right;\n",
       "    }\n",
       "</style>\n",
       "<table border=\"1\" class=\"dataframe\">\n",
       "  <thead>\n",
       "    <tr style=\"text-align: right;\">\n",
       "      <th></th>\n",
       "      <th>USMER</th>\n",
       "      <th>MEDICAL_UNIT</th>\n",
       "      <th>SEX</th>\n",
       "      <th>PATIENT_TYPE</th>\n",
       "      <th>DATE_DIED</th>\n",
       "      <th>INTUBED</th>\n",
       "      <th>PNEUMONIA</th>\n",
       "      <th>AGE</th>\n",
       "      <th>PREGNANT</th>\n",
       "      <th>DIABETES</th>\n",
       "      <th>...</th>\n",
       "      <th>INMSUPR</th>\n",
       "      <th>HIPERTENSION</th>\n",
       "      <th>OTHER_DISEASE</th>\n",
       "      <th>CARDIOVASCULAR</th>\n",
       "      <th>OBESITY</th>\n",
       "      <th>RENAL_CHRONIC</th>\n",
       "      <th>TOBACCO</th>\n",
       "      <th>CLASIFFICATION_FINAL</th>\n",
       "      <th>ICU</th>\n",
       "      <th>DEATH</th>\n",
       "    </tr>\n",
       "  </thead>\n",
       "  <tbody>\n",
       "    <tr>\n",
       "      <th>0</th>\n",
       "      <td>2</td>\n",
       "      <td>1</td>\n",
       "      <td>1</td>\n",
       "      <td>1</td>\n",
       "      <td>03/05/2020</td>\n",
       "      <td>97</td>\n",
       "      <td>1</td>\n",
       "      <td>65</td>\n",
       "      <td>2</td>\n",
       "      <td>2</td>\n",
       "      <td>...</td>\n",
       "      <td>2</td>\n",
       "      <td>1</td>\n",
       "      <td>2</td>\n",
       "      <td>2</td>\n",
       "      <td>2</td>\n",
       "      <td>2</td>\n",
       "      <td>2</td>\n",
       "      <td>3</td>\n",
       "      <td>97</td>\n",
       "      <td>1</td>\n",
       "    </tr>\n",
       "    <tr>\n",
       "      <th>1</th>\n",
       "      <td>2</td>\n",
       "      <td>1</td>\n",
       "      <td>2</td>\n",
       "      <td>1</td>\n",
       "      <td>03/06/2020</td>\n",
       "      <td>97</td>\n",
       "      <td>1</td>\n",
       "      <td>72</td>\n",
       "      <td>97</td>\n",
       "      <td>2</td>\n",
       "      <td>...</td>\n",
       "      <td>2</td>\n",
       "      <td>1</td>\n",
       "      <td>2</td>\n",
       "      <td>2</td>\n",
       "      <td>1</td>\n",
       "      <td>1</td>\n",
       "      <td>2</td>\n",
       "      <td>5</td>\n",
       "      <td>97</td>\n",
       "      <td>1</td>\n",
       "    </tr>\n",
       "    <tr>\n",
       "      <th>2</th>\n",
       "      <td>2</td>\n",
       "      <td>1</td>\n",
       "      <td>2</td>\n",
       "      <td>2</td>\n",
       "      <td>09/06/2020</td>\n",
       "      <td>1</td>\n",
       "      <td>2</td>\n",
       "      <td>55</td>\n",
       "      <td>97</td>\n",
       "      <td>1</td>\n",
       "      <td>...</td>\n",
       "      <td>2</td>\n",
       "      <td>2</td>\n",
       "      <td>2</td>\n",
       "      <td>2</td>\n",
       "      <td>2</td>\n",
       "      <td>2</td>\n",
       "      <td>2</td>\n",
       "      <td>3</td>\n",
       "      <td>2</td>\n",
       "      <td>1</td>\n",
       "    </tr>\n",
       "    <tr>\n",
       "      <th>3</th>\n",
       "      <td>2</td>\n",
       "      <td>1</td>\n",
       "      <td>1</td>\n",
       "      <td>1</td>\n",
       "      <td>12/06/2020</td>\n",
       "      <td>97</td>\n",
       "      <td>2</td>\n",
       "      <td>53</td>\n",
       "      <td>2</td>\n",
       "      <td>2</td>\n",
       "      <td>...</td>\n",
       "      <td>2</td>\n",
       "      <td>2</td>\n",
       "      <td>2</td>\n",
       "      <td>2</td>\n",
       "      <td>2</td>\n",
       "      <td>2</td>\n",
       "      <td>2</td>\n",
       "      <td>7</td>\n",
       "      <td>97</td>\n",
       "      <td>1</td>\n",
       "    </tr>\n",
       "    <tr>\n",
       "      <th>4</th>\n",
       "      <td>2</td>\n",
       "      <td>1</td>\n",
       "      <td>2</td>\n",
       "      <td>1</td>\n",
       "      <td>21/06/2020</td>\n",
       "      <td>97</td>\n",
       "      <td>2</td>\n",
       "      <td>68</td>\n",
       "      <td>97</td>\n",
       "      <td>1</td>\n",
       "      <td>...</td>\n",
       "      <td>2</td>\n",
       "      <td>1</td>\n",
       "      <td>2</td>\n",
       "      <td>2</td>\n",
       "      <td>2</td>\n",
       "      <td>2</td>\n",
       "      <td>2</td>\n",
       "      <td>3</td>\n",
       "      <td>97</td>\n",
       "      <td>1</td>\n",
       "    </tr>\n",
       "  </tbody>\n",
       "</table>\n",
       "<p>5 rows × 22 columns</p>\n",
       "</div>"
      ],
      "text/plain": [
       "   USMER  MEDICAL_UNIT  SEX  PATIENT_TYPE   DATE_DIED  INTUBED  PNEUMONIA  \\\n",
       "0      2             1    1             1  03/05/2020       97          1   \n",
       "1      2             1    2             1  03/06/2020       97          1   \n",
       "2      2             1    2             2  09/06/2020        1          2   \n",
       "3      2             1    1             1  12/06/2020       97          2   \n",
       "4      2             1    2             1  21/06/2020       97          2   \n",
       "\n",
       "   AGE  PREGNANT  DIABETES  ...  INMSUPR  HIPERTENSION  OTHER_DISEASE  \\\n",
       "0   65         2         2  ...        2             1              2   \n",
       "1   72        97         2  ...        2             1              2   \n",
       "2   55        97         1  ...        2             2              2   \n",
       "3   53         2         2  ...        2             2              2   \n",
       "4   68        97         1  ...        2             1              2   \n",
       "\n",
       "   CARDIOVASCULAR  OBESITY  RENAL_CHRONIC  TOBACCO  CLASIFFICATION_FINAL  ICU  \\\n",
       "0               2        2              2        2                     3   97   \n",
       "1               2        1              1        2                     5   97   \n",
       "2               2        2              2        2                     3    2   \n",
       "3               2        2              2        2                     7   97   \n",
       "4               2        2              2        2                     3   97   \n",
       "\n",
       "   DEATH  \n",
       "0      1  \n",
       "1      1  \n",
       "2      1  \n",
       "3      1  \n",
       "4      1  \n",
       "\n",
       "[5 rows x 22 columns]"
      ]
     },
     "execution_count": 19,
     "metadata": {},
     "output_type": "execute_result"
    }
   ],
   "source": [
    "data.head()"
   ]
  },
  {
   "cell_type": "code",
   "execution_count": 20,
   "id": "382a0f0d",
   "metadata": {},
   "outputs": [
    {
     "name": "stdout",
     "output_type": "stream",
     "text": [
      "Shape of Data : (1032572, 22)\n"
     ]
    }
   ],
   "source": [
    "print(\"Shape of Data :\",data.shape)"
   ]
  },
  {
   "cell_type": "markdown",
   "id": "ea7e32d6",
   "metadata": {},
   "source": [
    "après avoir supprimé les lignes contenant des valeurs manquantes dans la colonne PNEUMONIA, il y a 1,032,572 lignes et 22 colonnes dans le DataFrame."
   ]
  },
  {
   "cell_type": "code",
   "execution_count": 21,
   "id": "6df6e209",
   "metadata": {},
   "outputs": [],
   "source": [
    "data = data[(data.PNEUMONIA == 1) | (data.PNEUMONIA == 2)]\n",
    "data = data[(data.COPD == 1) | (data.COPD == 2)]\n",
    "data = data[(data.INMSUPR == 1) | (data.INMSUPR == 2)]\n",
    "data = data[(data.OTHER_DISEASE == 1) | (data.OTHER_DISEASE == 2)]\n",
    "data = data[(data.OBESITY == 1) | (data.OBESITY == 2)]\n",
    "data = data[(data.TOBACCO == 1) | (data.TOBACCO == 2)]\n",
    "data = data[(data.DIABETES == 1) | (data.DIABETES == 2)]\n",
    "data = data[(data.ASTHMA == 1) | (data.ASTHMA == 2)]\n",
    "data = data[(data.HIPERTENSION == 1) | (data.HIPERTENSION == 2)]\n",
    "data = data[(data.CARDIOVASCULAR == 1) | (data.CARDIOVASCULAR == 2)]\n",
    "data = data[(data.RENAL_CHRONIC == 1) | (data.RENAL_CHRONIC == 2)]\n",
    "\n"
   ]
  },
  {
   "cell_type": "markdown",
   "id": "6e87f747",
   "metadata": {},
   "source": [
    "On garde que les lignes où les valeurs des colonnes PNEUMONIA, COPD, INMSUPR, OTHER_DISEASE, OBESITY, TOBACCO, DIABETES, ASTHMA, HIPERTENSION, CARDIOVASCULAR et RENAL_CHRONIC sont soit 1, soit 2. Les autres lignes sont supprimées à l'aide de la méthode data[]."
   ]
  },
  {
   "cell_type": "code",
   "execution_count": 22,
   "id": "92cbfa4f",
   "metadata": {},
   "outputs": [
    {
     "name": "stdout",
     "output_type": "stream",
     "text": [
      "Shape of Data : (1025152, 22)\n"
     ]
    }
   ],
   "source": [
    "print(\"Shape of Data :\",data.shape)"
   ]
  },
  {
   "cell_type": "markdown",
   "id": "32801195",
   "metadata": {},
   "source": [
    "Après avoir filtré les données pour ne garder que les lignes où les valeurs de certaines colonnes sont soit 1 soit 2, le nombre de lignes est maintenant de 1,025,152 et le nombre de colonnes est de 22."
   ]
  },
  {
   "cell_type": "code",
   "execution_count": 23,
   "id": "d7599b60",
   "metadata": {},
   "outputs": [
    {
     "name": "stdout",
     "output_type": "stream",
     "text": [
      "Nombre de valeurs uniques par colonne:\n",
      "USMER                     2\n",
      "MEDICAL_UNIT             13\n",
      "SEX                       2\n",
      "PATIENT_TYPE              2\n",
      "DATE_DIED               395\n",
      "INTUBED                   4\n",
      "PNEUMONIA                 2\n",
      "AGE                     121\n",
      "PREGNANT                  4\n",
      "DIABETES                  2\n",
      "COPD                      2\n",
      "ASTHMA                    2\n",
      "INMSUPR                   2\n",
      "HIPERTENSION              2\n",
      "OTHER_DISEASE             2\n",
      "CARDIOVASCULAR            2\n",
      "OBESITY                   2\n",
      "RENAL_CHRONIC             2\n",
      "TOBACCO                   2\n",
      "CLASIFFICATION_FINAL      7\n",
      "ICU                       4\n",
      "DEATH                     2\n",
      "dtype: int64\n"
     ]
    }
   ],
   "source": [
    "unique_vals = data.nunique()\n",
    "\n",
    "print(\"Nombre de valeurs uniques par colonne:\")\n",
    "print(unique_vals)"
   ]
  },
  {
   "cell_type": "markdown",
   "id": "328a7ef6",
   "metadata": {},
   "source": [
    "On peut voir que la colonne PNEUMONIA a maintenant seulement 2 valeurs uniques (1 pour les patients atteints de pneumonie et 2 pour les patients qui n'ont pas de pneumonie). Les autres colonnes ont également une valeur binaire où 1 indique la présence de la maladie ou la condition, et 2 indique l'absence de la maladie ou la condition.\n",
    "\n",
    "La colonne DEATH a également été ajoutée, avec seulement 2 valeurs possibles (0 ou 1) indiquant si le patient est décédé ou non."
   ]
  },
  {
   "cell_type": "code",
   "execution_count": 24,
   "id": "683d2203",
   "metadata": {},
   "outputs": [
    {
     "data": {
      "image/png": "[encoded data removed]",
      "text/plain": [
       "<Figure size 432x288 with 1 Axes>"
      ]
     },
     "metadata": {
      "needs_background": "light"
     },
     "output_type": "display_data"
    }
   ],
   "source": [
    "\n",
    "pregnant_counts = data.groupby(['SEX', 'PREGNANT']).size().reset_index(name='count')\n",
    "sns.barplot(x='SEX', y='count', hue='PREGNANT', data=pregnant_counts)\n",
    "plt.title('Pregnancies by Sex')\n",
    "plt.show()"
   ]
  },
  {
   "cell_type": "markdown",
   "id": "abf8c575",
   "metadata": {},
   "source": [
    "les hommes ne peuvent pas tomber enceintes, je convertie 97 en 2"
   ]
  },
  {
   "cell_type": "code",
   "execution_count": 25,
   "id": "546805db",
   "metadata": {},
   "outputs": [],
   "source": [
    "data['PREGNANT'].replace(97, 2, inplace=True)\n"
   ]
  },
  {
   "cell_type": "code",
   "execution_count": 26,
   "id": "44091554",
   "metadata": {},
   "outputs": [
    {
     "data": {
      "image/png": "[encoded data removed]",
      "text/plain": [
       "<Figure size 432x288 with 1 Axes>"
      ]
     },
     "metadata": {
      "needs_background": "light"
     },
     "output_type": "display_data"
    }
   ],
   "source": [
    "pregnant_counts = data.groupby(['SEX', 'PREGNANT']).size().reset_index(name='count')\n",
    "sns.barplot(x='SEX', y='count', hue='PREGNANT', data=pregnant_counts)\n",
    "plt.title('Pregnancies by Sex')\n",
    "plt.show()"
   ]
  },
  {
   "cell_type": "code",
   "execution_count": 27,
   "id": "dd31d8df",
   "metadata": {},
   "outputs": [],
   "source": [
    "data = data[data.PREGNANT != 98]\n"
   ]
  },
  {
   "cell_type": "markdown",
   "id": "50cfb897",
   "metadata": {},
   "source": [
    "Je supprime toutes les lignes du DataFrame data où la valeur de la colonne PREGNANT est égale à 98"
   ]
  },
  {
   "cell_type": "code",
   "execution_count": 28,
   "id": "0ba9fc16",
   "metadata": {},
   "outputs": [],
   "source": [
    "columns_to_drop = [\"DATE_DIED\", \"INTUBED\", \"ICU\"]\n",
    "data.drop(columns_to_drop, axis=1, inplace=True)\n",
    "\n"
   ]
  },
  {
   "cell_type": "markdown",
   "id": "f03458f4",
   "metadata": {},
   "source": [
    "Les colonnes \"INTUBED\" et \"ICU\" ont un grand nombre de valeurs manquantes.\n",
    "La colonne \"DATE_DIED\" n'est plus nécessaire car la colonne \"DEATH\" a été créée à partir de celle-ci."
   ]
  },
  {
   "cell_type": "code",
   "execution_count": 29,
   "id": "b82bf2e4",
   "metadata": {},
   "outputs": [
    {
     "data": {
      "text/html": [
       "<div>\n",
       "<style scoped>\n",
       "    .dataframe tbody tr th:only-of-type {\n",
       "        vertical-align: middle;\n",
       "    }\n",
       "\n",
       "    .dataframe tbody tr th {\n",
       "        vertical-align: top;\n",
       "    }\n",
       "\n",
       "    .dataframe thead th {\n",
       "        text-align: right;\n",
       "    }\n",
       "</style>\n",
       "<table border=\"1\" class=\"dataframe\">\n",
       "  <thead>\n",
       "    <tr style=\"text-align: right;\">\n",
       "      <th></th>\n",
       "      <th>USMER</th>\n",
       "      <th>MEDICAL_UNIT</th>\n",
       "      <th>SEX</th>\n",
       "      <th>PATIENT_TYPE</th>\n",
       "      <th>PNEUMONIA</th>\n",
       "      <th>AGE</th>\n",
       "      <th>PREGNANT</th>\n",
       "      <th>DIABETES</th>\n",
       "      <th>COPD</th>\n",
       "      <th>ASTHMA</th>\n",
       "      <th>INMSUPR</th>\n",
       "      <th>HIPERTENSION</th>\n",
       "      <th>OTHER_DISEASE</th>\n",
       "      <th>CARDIOVASCULAR</th>\n",
       "      <th>OBESITY</th>\n",
       "      <th>RENAL_CHRONIC</th>\n",
       "      <th>TOBACCO</th>\n",
       "      <th>CLASIFFICATION_FINAL</th>\n",
       "      <th>DEATH</th>\n",
       "    </tr>\n",
       "  </thead>\n",
       "  <tbody>\n",
       "    <tr>\n",
       "      <th>0</th>\n",
       "      <td>2</td>\n",
       "      <td>1</td>\n",
       "      <td>1</td>\n",
       "      <td>1</td>\n",
       "      <td>1</td>\n",
       "      <td>65</td>\n",
       "      <td>2</td>\n",
       "      <td>2</td>\n",
       "      <td>2</td>\n",
       "      <td>2</td>\n",
       "      <td>2</td>\n",
       "      <td>1</td>\n",
       "      <td>2</td>\n",
       "      <td>2</td>\n",
       "      <td>2</td>\n",
       "      <td>2</td>\n",
       "      <td>2</td>\n",
       "      <td>3</td>\n",
       "      <td>1</td>\n",
       "    </tr>\n",
       "    <tr>\n",
       "      <th>1</th>\n",
       "      <td>2</td>\n",
       "      <td>1</td>\n",
       "      <td>2</td>\n",
       "      <td>1</td>\n",
       "      <td>1</td>\n",
       "      <td>72</td>\n",
       "      <td>2</td>\n",
       "      <td>2</td>\n",
       "      <td>2</td>\n",
       "      <td>2</td>\n",
       "      <td>2</td>\n",
       "      <td>1</td>\n",
       "      <td>2</td>\n",
       "      <td>2</td>\n",
       "      <td>1</td>\n",
       "      <td>1</td>\n",
       "      <td>2</td>\n",
       "      <td>5</td>\n",
       "      <td>1</td>\n",
       "    </tr>\n",
       "    <tr>\n",
       "      <th>2</th>\n",
       "      <td>2</td>\n",
       "      <td>1</td>\n",
       "      <td>2</td>\n",
       "      <td>2</td>\n",
       "      <td>2</td>\n",
       "      <td>55</td>\n",
       "      <td>2</td>\n",
       "      <td>1</td>\n",
       "      <td>2</td>\n",
       "      <td>2</td>\n",
       "      <td>2</td>\n",
       "      <td>2</td>\n",
       "      <td>2</td>\n",
       "      <td>2</td>\n",
       "      <td>2</td>\n",
       "      <td>2</td>\n",
       "      <td>2</td>\n",
       "      <td>3</td>\n",
       "      <td>1</td>\n",
       "    </tr>\n",
       "    <tr>\n",
       "      <th>3</th>\n",
       "      <td>2</td>\n",
       "      <td>1</td>\n",
       "      <td>1</td>\n",
       "      <td>1</td>\n",
       "      <td>2</td>\n",
       "      <td>53</td>\n",
       "      <td>2</td>\n",
       "      <td>2</td>\n",
       "      <td>2</td>\n",
       "      <td>2</td>\n",
       "      <td>2</td>\n",
       "      <td>2</td>\n",
       "      <td>2</td>\n",
       "      <td>2</td>\n",
       "      <td>2</td>\n",
       "      <td>2</td>\n",
       "      <td>2</td>\n",
       "      <td>7</td>\n",
       "      <td>1</td>\n",
       "    </tr>\n",
       "    <tr>\n",
       "      <th>4</th>\n",
       "      <td>2</td>\n",
       "      <td>1</td>\n",
       "      <td>2</td>\n",
       "      <td>1</td>\n",
       "      <td>2</td>\n",
       "      <td>68</td>\n",
       "      <td>2</td>\n",
       "      <td>1</td>\n",
       "      <td>2</td>\n",
       "      <td>2</td>\n",
       "      <td>2</td>\n",
       "      <td>1</td>\n",
       "      <td>2</td>\n",
       "      <td>2</td>\n",
       "      <td>2</td>\n",
       "      <td>2</td>\n",
       "      <td>2</td>\n",
       "      <td>3</td>\n",
       "      <td>1</td>\n",
       "    </tr>\n",
       "  </tbody>\n",
       "</table>\n",
       "</div>"
      ],
      "text/plain": [
       "   USMER  MEDICAL_UNIT  SEX  PATIENT_TYPE  PNEUMONIA  AGE  PREGNANT  DIABETES  \\\n",
       "0      2             1    1             1          1   65         2         2   \n",
       "1      2             1    2             1          1   72         2         2   \n",
       "2      2             1    2             2          2   55         2         1   \n",
       "3      2             1    1             1          2   53         2         2   \n",
       "4      2             1    2             1          2   68         2         1   \n",
       "\n",
       "   COPD  ASTHMA  INMSUPR  HIPERTENSION  OTHER_DISEASE  CARDIOVASCULAR  \\\n",
       "0     2       2        2             1              2               2   \n",
       "1     2       2        2             1              2               2   \n",
       "2     2       2        2             2              2               2   \n",
       "3     2       2        2             2              2               2   \n",
       "4     2       2        2             1              2               2   \n",
       "\n",
       "   OBESITY  RENAL_CHRONIC  TOBACCO  CLASIFFICATION_FINAL  DEATH  \n",
       "0        2              2        2                     3      1  \n",
       "1        1              1        2                     5      1  \n",
       "2        2              2        2                     3      1  \n",
       "3        2              2        2                     7      1  \n",
       "4        2              2        2                     3      1  "
      ]
     },
     "execution_count": 29,
     "metadata": {},
     "output_type": "execute_result"
    }
   ],
   "source": [
    "data.head()"
   ]
  },
  {
   "cell_type": "code",
   "execution_count": 30,
   "id": "b4f47067",
   "metadata": {},
   "outputs": [
    {
     "name": "stdout",
     "output_type": "stream",
     "text": [
      "Nombre de valeurs uniques par colonne:\n",
      "USMER                     2\n",
      "MEDICAL_UNIT             13\n",
      "SEX                       2\n",
      "PATIENT_TYPE              2\n",
      "PNEUMONIA                 2\n",
      "AGE                     121\n",
      "PREGNANT                  2\n",
      "DIABETES                  2\n",
      "COPD                      2\n",
      "ASTHMA                    2\n",
      "INMSUPR                   2\n",
      "HIPERTENSION              2\n",
      "OTHER_DISEASE             2\n",
      "CARDIOVASCULAR            2\n",
      "OBESITY                   2\n",
      "RENAL_CHRONIC             2\n",
      "TOBACCO                   2\n",
      "CLASIFFICATION_FINAL      7\n",
      "DEATH                     2\n",
      "dtype: int64\n"
     ]
    }
   ],
   "source": [
    "unique_vals = data.nunique()\n",
    "\n",
    "print(\"Nombre de valeurs uniques par colonne:\")\n",
    "print(unique_vals)"
   ]
  },
  {
   "cell_type": "markdown",
   "id": "2edc8737",
   "metadata": {},
   "source": [
    "On peut remarquer qu'il y a maintenant 19 colonnes, dont certaines sont binaires et d'autres catégorielles avec un petit nombre de catégories uniques. "
   ]
  },
  {
   "cell_type": "code",
   "execution_count": 31,
   "id": "4bb010e9",
   "metadata": {},
   "outputs": [
    {
     "name": "stdout",
     "output_type": "stream",
     "text": [
      "<class 'pandas.core.frame.DataFrame'>\n",
      "Int64Index: 1021977 entries, 0 to 1048574\n",
      "Data columns (total 19 columns):\n",
      " #   Column                Non-Null Count    Dtype\n",
      "---  ------                --------------    -----\n",
      " 0   USMER                 1021977 non-null  int64\n",
      " 1   MEDICAL_UNIT          1021977 non-null  int64\n",
      " 2   SEX                   1021977 non-null  int64\n",
      " 3   PATIENT_TYPE          1021977 non-null  int64\n",
      " 4   PNEUMONIA             1021977 non-null  int64\n",
      " 5   AGE                   1021977 non-null  int64\n",
      " 6   PREGNANT              1021977 non-null  int64\n",
      " 7   DIABETES              1021977 non-null  int64\n",
      " 8   COPD                  1021977 non-null  int64\n",
      " 9   ASTHMA                1021977 non-null  int64\n",
      " 10  INMSUPR               1021977 non-null  int64\n",
      " 11  HIPERTENSION          1021977 non-null  int64\n",
      " 12  OTHER_DISEASE         1021977 non-null  int64\n",
      " 13  CARDIOVASCULAR        1021977 non-null  int64\n",
      " 14  OBESITY               1021977 non-null  int64\n",
      " 15  RENAL_CHRONIC         1021977 non-null  int64\n",
      " 16  TOBACCO               1021977 non-null  int64\n",
      " 17  CLASIFFICATION_FINAL  1021977 non-null  int64\n",
      " 18  DEATH                 1021977 non-null  int32\n",
      "dtypes: int32(1), int64(18)\n",
      "memory usage: 152.0 MB\n"
     ]
    }
   ],
   "source": [
    "data.info()"
   ]
  },
  {
   "cell_type": "markdown",
   "id": "e699d373",
   "metadata": {},
   "source": [
    "La base de données est maintenant nettoyé et prêt à être analysé."
   ]
  },
  {
   "cell_type": "code",
   "execution_count": 32,
   "id": "5c4ced56",
   "metadata": {},
   "outputs": [
    {
     "data": {
      "image/png": "[encoded data removed]",
      "text/plain": [
       "<Figure size 432x288 with 1 Axes>"
      ]
     },
     "metadata": {
      "needs_background": "light"
     },
     "output_type": "display_data"
    }
   ],
   "source": [
    "plt.bar(['Alive', 'Death'], data['DEATH'].value_counts())\n",
    "\n",
    "plt.title('Death Distribution')\n",
    "plt.xlabel('Patient Status')\n",
    "plt.ylabel('Number of Patients')\n",
    "\n",
    "plt.show()"
   ]
  },
  {
   "cell_type": "markdown",
   "id": "83cc4ce6",
   "metadata": {},
   "source": [
    "il va yavoir un déséquilibre dans la distribution de la cible \"DEATH\", avec plus de patients vivants que de patients décédés dans les données. Cela pourrait avoir un impact sur la performance des modèles prédictifs."
   ]
  },
  {
   "cell_type": "code",
   "execution_count": 33,
   "id": "1374fdd3",
   "metadata": {},
   "outputs": [
    {
     "name": "stdout",
     "output_type": "stream",
     "text": [
      "1    947320\n",
      "0    947320\n",
      "Name: DEATH, dtype: int64\n"
     ]
    }
   ],
   "source": [
    "from imblearn.over_sampling import RandomOverSampler\n",
    "\n",
    "# Séparation des caractéristiques et de la cible\n",
    "X = data.drop('DEATH', axis=1)\n",
    "y = data['DEATH']\n",
    "\n",
    "# Instanciation de la classe RandomOverSampler\n",
    "oversampler = RandomOverSampler(random_state=42)\n",
    "\n",
    "# Oversampling de X et y\n",
    "X_resampled, y_resampled = oversampler.fit_resample(X, y)\n",
    "\n",
    "# Vérification de la distribution de la cible\n",
    "print(y_resampled.value_counts())\n"
   ]
  },
  {
   "cell_type": "markdown",
   "id": "ce257e36",
   "metadata": {},
   "source": [
    "On peut voir que les classes sont maintenant équilibrées avec 947,320 observations pour chaque classe avec la méthode Randomoversampler qui est utilisée pour résoudre le problème de déséquilibre de classes dans les données, où l'une des classes est beaucoup moins représentée que les autres. Dans le cas présent, la classe \"Death\" est la classe minoritaire, avec beaucoup moins d'observations que la classe majoritaire \"Alive\""
   ]
  },
  {
   "cell_type": "code",
   "execution_count": 34,
   "id": "d57c2d98",
   "metadata": {},
   "outputs": [
    {
     "data": {
      "image/png": "[encoded data removed]",
      "text/plain": [
       "<Figure size 432x288 with 1 Axes>"
      ]
     },
     "metadata": {
      "needs_background": "light"
     },
     "output_type": "display_data"
    }
   ],
   "source": [
    "import seaborn as sns\n",
    "import matplotlib.pyplot as plt\n",
    "\n",
    "# Instanciation de la classe RandomOverSampler\n",
    "oversampler = RandomOverSampler(random_state=42)\n",
    "\n",
    "# Oversampling de X et y\n",
    "X_resampled, y_resampled = oversampler.fit_resample(X, y)\n",
    "\n",
    "# Afficher la distribution après l'oversampling\n",
    "sns.countplot(x=y_resampled)\n",
    "plt.title('Death Distribution (After Oversampling)')\n",
    "plt.xlabel('Patient Status')\n",
    "plt.ylabel('Number of Patients')\n",
    "plt.show()\n"
   ]
  },
  {
   "cell_type": "markdown",
   "id": "7782789d",
   "metadata": {},
   "source": [
    "La distribution est maintenant équilibrée, avec un nombre égal de patients décédés et vivants."
   ]
  },
  {
   "cell_type": "code",
   "execution_count": 35,
   "id": "4410e6ba",
   "metadata": {},
   "outputs": [],
   "source": [
    "X_train, X_test, y_train, y_test = train_test_split(X_resampled, y_resampled, test_size=0.3, random_state=42)\n"
   ]
  },
  {
   "cell_type": "markdown",
   "id": "6d50866a",
   "metadata": {},
   "source": [
    "On divise les données en ensembles d'entraînement et de test, avec une proportion de 70% pour l'ensemble d'entraînement et 30% pour l'ensemble de test."
   ]
  },
  {
   "cell_type": "code",
   "execution_count": 36,
   "id": "d863a955",
   "metadata": {},
   "outputs": [
    {
     "name": "stdout",
     "output_type": "stream",
     "text": [
      "Logistic Regression:\n",
      "              precision    recall  f1-score   support\n",
      "\n",
      "           0       0.92      0.89      0.91    284621\n",
      "           1       0.89      0.92      0.91    283771\n",
      "\n",
      "    accuracy                           0.91    568392\n",
      "   macro avg       0.91      0.91      0.91    568392\n",
      "weighted avg       0.91      0.91      0.91    568392\n",
      "\n",
      "Random Forest:\n",
      "              precision    recall  f1-score   support\n",
      "\n",
      "           0       0.98      0.91      0.95    284621\n",
      "           1       0.92      0.98      0.95    283771\n",
      "\n",
      "    accuracy                           0.95    568392\n",
      "   macro avg       0.95      0.95      0.95    568392\n",
      "weighted avg       0.95      0.95      0.95    568392\n",
      "\n",
      "Decision Tree:\n",
      "              precision    recall  f1-score   support\n",
      "\n",
      "           0       0.98      0.91      0.95    284621\n",
      "           1       0.92      0.98      0.95    283771\n",
      "\n",
      "    accuracy                           0.95    568392\n",
      "   macro avg       0.95      0.95      0.95    568392\n",
      "weighted avg       0.95      0.95      0.95    568392\n",
      "\n"
     ]
    }
   ],
   "source": [
    "# Entraînement du modèle de régression logistique\n",
    "lr = LogisticRegression(random_state=42)\n",
    "lr.fit(X_train, y_train)\n",
    "\n",
    "# Entraînement du modèle de forêt aléatoire\n",
    "rf = RandomForestClassifier(random_state=42)\n",
    "rf.fit(X_train, y_train)\n",
    "\n",
    "# Entraînement du modèle d'arbre de décision\n",
    "dt = DecisionTreeClassifier(random_state=42)\n",
    "dt.fit(X_train, y_train)\n",
    "\n",
    "# Prédiction sur l'ensemble de test\n",
    "y_pred_lr = lr.predict(X_test)\n",
    "y_pred_rf = rf.predict(X_test)\n",
    "y_pred_dt = dt.predict(X_test)\n",
    "\n",
    "# Rapport de classification pour chaque modèle\n",
    "print(\"Logistic Regression:\")\n",
    "print(classification_report(y_test, y_pred_lr))\n",
    "\n",
    "print(\"Random Forest:\")\n",
    "print(classification_report(y_test, y_pred_rf))\n",
    "\n",
    "print(\"Decision Tree:\")\n",
    "print(classification_report(y_test, y_pred_dt))"
   ]
  },
  {
   "cell_type": "markdown",
   "id": "17101a4b",
   "metadata": {},
   "source": [
    "Les trois modèles semblent donner des performances similaires, avec une précision et un rappel élevés pour la détection de la mort des patients. Les scores f1 sont également élevés pour les trois modèles."
   ]
  },
  {
   "cell_type": "code",
   "execution_count": 37,
   "id": "7d03502a",
   "metadata": {},
   "outputs": [
    {
     "name": "stdout",
     "output_type": "stream",
     "text": [
      "Logistic Regression:\n",
      " [[253732  30889]\n",
      " [ 22053 261718]]\n",
      "\n",
      "Random Forest:\n",
      " [[260118  24503]\n",
      " [  5057 278714]]\n",
      "\n",
      "Decision Tree:\n",
      " [[260280  24341]\n",
      " [  5290 278481]]\n"
     ]
    }
   ],
   "source": [
    "# Matrice de confusion pour chaque modèle\n",
    "cm_lr = confusion_matrix(y_test, y_pred_lr)\n",
    "cm_rf = confusion_matrix(y_test, y_pred_rf)\n",
    "cm_dt = confusion_matrix(y_test, y_pred_dt)\n",
    "\n",
    "# Affichage des matrices de confusion\n",
    "print(\"Logistic Regression:\\n\", cm_lr)\n",
    "print(\"\\nRandom Forest:\\n\", cm_rf)\n",
    "print(\"\\nDecision Tree:\\n\", cm_dt)"
   ]
  },
  {
   "cell_type": "markdown",
   "id": "69f56aa9",
   "metadata": {},
   "source": [
    "La régression logistique a le plus grand nombre de FP, ce qui signifie qu'elle a prédit un plus grand nombre de patients comme décédés alors qu'ils ont survécu. Le modèle de forêt aléatoire et l'arbre de décision ont un nombre plus faible de FP, mais le modèle d'arbre de décision a le plus grand nombre de FN, ce qui signifie qu'il a manqué un plus grand nombre de patients qui sont décédés."
   ]
  },
  {
   "cell_type": "markdown",
   "id": "6b2a03fa",
   "metadata": {},
   "source": [
    "les modèles ont des scores élevés pour les VP et les VN, ce qui signifie qu'ils ont correctement identifié la plupart des patients qui ont survécu et de ceux qui sont décédés. Cependant, le nombre de FP et de FN varie en fonction du modèle."
   ]
  },
  {
   "cell_type": "markdown",
   "id": "af84df52",
   "metadata": {},
   "source": [
    "le modèle de forêt aléatoire semble avoir les performances les plus équilibrées avec un faible nombre de FP et FN, tandis que la régression logistique a des performances légèrement moins bonnes en raison d'un nombre plus élevé de FP. Le modèle d'arbre de décision est le moins performant des trois avec un nombre plus élevé de FN."
   ]
  },
  {
   "cell_type": "code",
   "execution_count": 38,
   "id": "487d8fb6",
   "metadata": {},
   "outputs": [
    {
     "data": {
      "text/html": [
       "<style>#sk-container-id-1 {color: black;background-color: white;}#sk-container-id-1 pre{padding: 0;}#sk-container-id-1 div.sk-toggleable {background-color: white;}#sk-container-id-1 label.sk-toggleable__label {cursor: pointer;display: block;width: 100%;margin-bottom: 0;padding: 0.3em;box-sizing: border-box;text-align: center;}#sk-container-id-1 label.sk-toggleable__label-arrow:before {content: \"▸\";float: left;margin-right: 0.25em;color: #696969;}#sk-container-id-1 label.sk-toggleable__label-arrow:hover:before {color: black;}#sk-container-id-1 div.sk-estimator:hover label.sk-toggleable__label-arrow:before {color: black;}#sk-container-id-1 div.sk-toggleable__content {max-height: 0;max-width: 0;overflow: hidden;text-align: left;background-color: #f0f8ff;}#sk-container-id-1 div.sk-toggleable__content pre {margin: 0.2em;color: black;border-radius: 0.25em;background-color: #f0f8ff;}#sk-container-id-1 input.sk-toggleable__control:checked~div.sk-toggleable__content {max-height: 200px;max-width: 100%;overflow: auto;}#sk-container-id-1 input.sk-toggleable__control:checked~label.sk-toggleable__label-arrow:before {content: \"▾\";}#sk-container-id-1 div.sk-estimator input.sk-toggleable__control:checked~label.sk-toggleable__label {background-color: #d4ebff;}#sk-container-id-1 div.sk-label input.sk-toggleable__control:checked~label.sk-toggleable__label {background-color: #d4ebff;}#sk-container-id-1 input.sk-hidden--visually {border: 0;clip: rect(1px 1px 1px 1px);clip: rect(1px, 1px, 1px, 1px);height: 1px;margin: -1px;overflow: hidden;padding: 0;position: absolute;width: 1px;}#sk-container-id-1 div.sk-estimator {font-family: monospace;background-color: #f0f8ff;border: 1px dotted black;border-radius: 0.25em;box-sizing: border-box;margin-bottom: 0.5em;}#sk-container-id-1 div.sk-estimator:hover {background-color: #d4ebff;}#sk-container-id-1 div.sk-parallel-item::after {content: \"\";width: 100%;border-bottom: 1px solid gray;flex-grow: 1;}#sk-container-id-1 div.sk-label:hover label.sk-toggleable__label {background-color: #d4ebff;}#sk-container-id-1 div.sk-serial::before {content: \"\";position: absolute;border-left: 1px solid gray;box-sizing: border-box;top: 0;bottom: 0;left: 50%;z-index: 0;}#sk-container-id-1 div.sk-serial {display: flex;flex-direction: column;align-items: center;background-color: white;padding-right: 0.2em;padding-left: 0.2em;position: relative;}#sk-container-id-1 div.sk-item {position: relative;z-index: 1;}#sk-container-id-1 div.sk-parallel {display: flex;align-items: stretch;justify-content: center;background-color: white;position: relative;}#sk-container-id-1 div.sk-item::before, #sk-container-id-1 div.sk-parallel-item::before {content: \"\";position: absolute;border-left: 1px solid gray;box-sizing: border-box;top: 0;bottom: 0;left: 50%;z-index: -1;}#sk-container-id-1 div.sk-parallel-item {display: flex;flex-direction: column;z-index: 1;position: relative;background-color: white;}#sk-container-id-1 div.sk-parallel-item:first-child::after {align-self: flex-end;width: 50%;}#sk-container-id-1 div.sk-parallel-item:last-child::after {align-self: flex-start;width: 50%;}#sk-container-id-1 div.sk-parallel-item:only-child::after {width: 0;}#sk-container-id-1 div.sk-dashed-wrapped {border: 1px dashed gray;margin: 0 0.4em 0.5em 0.4em;box-sizing: border-box;padding-bottom: 0.4em;background-color: white;}#sk-container-id-1 div.sk-label label {font-family: monospace;font-weight: bold;display: inline-block;line-height: 1.2em;}#sk-container-id-1 div.sk-label-container {text-align: center;}#sk-container-id-1 div.sk-container {/* jupyter's `normalize.less` sets `[hidden] { display: none; }` but bootstrap.min.css set `[hidden] { display: none !important; }` so we also need the `!important` here to be able to override the default hidden behavior on the sphinx rendered scikit-learn.org. See: https://github.com/scikit-learn/scikit-learn/issues/21755 */display: inline-block !important;position: relative;}#sk-container-id-1 div.sk-text-repr-fallback {display: none;}</style><div id=\"sk-container-id-1\" class=\"sk-top-container\"><div class=\"sk-text-repr-fallback\"><pre>RandomForestClassifier()</pre><b>In a Jupyter environment, please rerun this cell to show the HTML representation or trust the notebook. <br />On GitHub, the HTML representation is unable to render, please try loading this page with nbviewer.org.</b></div><div class=\"sk-container\" hidden><div class=\"sk-item\"><div class=\"sk-estimator sk-toggleable\"><input class=\"sk-toggleable__control sk-hidden--visually\" id=\"sk-estimator-id-1\" type=\"checkbox\" checked><label for=\"sk-estimator-id-1\" class=\"sk-toggleable__label sk-toggleable__label-arrow\">RandomForestClassifier</label><div class=\"sk-toggleable__content\"><pre>RandomForestClassifier()</pre></div></div></div></div></div>"
      ],
      "text/plain": [
       "RandomForestClassifier()"
      ]
     },
     "execution_count": 38,
     "metadata": {},
     "output_type": "execute_result"
    }
   ],
   "source": [
    "rf = RandomForestClassifier()\n",
    "rf.fit(X_train.values, y_train)"
   ]
  },
  {
   "cell_type": "code",
   "execution_count": 41,
   "id": "3480b2cd",
   "metadata": {},
   "outputs": [],
   "source": [
    "rf_pred = rf.predict(X_test.values)\n"
   ]
  },
  {
   "cell_type": "code",
   "execution_count": 42,
   "id": "b241d6fa",
   "metadata": {},
   "outputs": [
    {
     "data": {
      "text/plain": [
       "array([1, 0, 1, ..., 0, 0, 0])"
      ]
     },
     "execution_count": 42,
     "metadata": {},
     "output_type": "execute_result"
    }
   ],
   "source": [
    "rf_pred"
   ]
  },
  {
   "cell_type": "code",
   "execution_count": 43,
   "id": "6ae03966",
   "metadata": {},
   "outputs": [],
   "source": [
    "import pickle"
   ]
  },
  {
   "cell_type": "code",
   "execution_count": 44,
   "id": "78409d6c",
   "metadata": {},
   "outputs": [],
   "source": [
    "pickle.dump(rf,open('modele.pkl','wb'))"
   ]
  },
  {
   "cell_type": "code",
   "execution_count": 45,
   "id": "97fe7246",
   "metadata": {},
   "outputs": [],
   "source": [
    "modele_pickle=pickle.load(open('modele.pkl','rb'))"
   ]
  },
  {
   "cell_type": "code",
   "execution_count": null,
   "id": "9e0f5c3e",
   "metadata": {},
   "outputs": [],
   "source": [
    " "
   ]
  }
 ],
 "metadata": {
  "kernelspec": {
   "display_name": "Python 3 (ipykernel)",
   "language": "python",
   "name": "python3"
  },
  "language_info": {
   "codemirror_mode": {
    "name": "ipython",
    "version": 3
   },
   "file_extension": ".py",
   "mimetype": "text/x-python",
   "name": "python",
   "nbconvert_exporter": "python",
   "pygments_lexer": "ipython3",
   "version": "3.11.2"
  }
 },
 "nbformat": 4,
 "nbformat_minor": 5
}
